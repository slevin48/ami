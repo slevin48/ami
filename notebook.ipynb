{
 "cells": [
  {
   "cell_type": "markdown",
   "metadata": {},
   "source": [
    "# AMI"
   ]
  },
  {
   "cell_type": "code",
   "execution_count": 1,
   "metadata": {},
   "outputs": [
    {
     "data": {
      "text/plain": [
       "True"
      ]
     },
     "execution_count": 1,
     "metadata": {},
     "output_type": "execute_result"
    }
   ],
   "source": [
    "from dotenv import load_dotenv\n",
    "load_dotenv()"
   ]
  },
  {
   "cell_type": "code",
   "execution_count": 2,
   "metadata": {},
   "outputs": [],
   "source": [
    "episode_number = 3\n",
    "# episode_number = int(episode_number)\n",
    "episode = 'episode' + '{:03d}'.format(episode_number)\n",
    "# Set the directory for the episode\n",
    "directory = 'podcast/' + episode "
   ]
  },
  {
   "cell_type": "code",
   "execution_count": 4,
   "metadata": {},
   "outputs": [
    {
     "data": {
      "text/plain": [
       "['Les embauches de cadres marquent le pas mais résistent toujours.txt',\n",
       " 'Nikki Haley joue sa carte dans la primaire républicaine.txt',\n",
       " 'Nucléaire - les petits réacteurs essuient un revers aux Etats-Unis.txt',\n",
       " 'Présidentielle américaine 2024 - Donald Trump fait la course en tête.txt',\n",
       " 'Trump II - le même en pire.txt',\n",
       " '« Je suis devenu président grâce à ma marque », se vante Trump à son procès.txt']"
      ]
     },
     "execution_count": 4,
     "metadata": {},
     "output_type": "execute_result"
    }
   ],
   "source": [
    "import os\n",
    "articles = os.listdir(f'podcast/{episode}/text')\n",
    "articles"
   ]
  },
  {
   "cell_type": "code",
   "execution_count": 5,
   "metadata": {},
   "outputs": [
    {
     "data": {
      "text/plain": [
       "'Les embauches de cadres marquent le pas mais résistent toujours.txt'"
      ]
     },
     "execution_count": 5,
     "metadata": {},
     "output_type": "execute_result"
    }
   ],
   "source": [
    "article = articles[0]\n",
    "article"
   ]
  },
  {
   "cell_type": "markdown",
   "metadata": {},
   "source": [
    "## OpenAI summary"
   ]
  },
  {
   "cell_type": "code",
   "execution_count": 6,
   "metadata": {},
   "outputs": [],
   "source": [
    "os.mkdir(f'podcast/{episode}/summary')"
   ]
  },
  {
   "cell_type": "code",
   "execution_count": 7,
   "metadata": {},
   "outputs": [],
   "source": [
    "# Read the text from the file\n",
    "with open(f'podcast/{episode}/text/' + article, 'r',encoding='utf-8') as f:\n",
    "    text = f.read()"
   ]
  },
  {
   "cell_type": "code",
   "execution_count": 8,
   "metadata": {},
   "outputs": [],
   "source": [
    "import openai, os\n",
    "openai.api_key = os.getenv(\"OPENAI_API_KEY\")\n",
    "def summarize(text):\n",
    "    inst = '''Resume l'article suivant en moins de 1000 caracteres:''' \n",
    "    completion = openai.chat.completions.create(\n",
    "        model='gpt-3.5-turbo-1106',\n",
    "        messages= [\n",
    "            {'role': 'system', 'content': inst },\n",
    "            {'role': 'user', 'content': text }]\n",
    "    )\n",
    "    return completion.choices[0].message.content"
   ]
  },
  {
   "cell_type": "code",
   "execution_count": 9,
   "metadata": {},
   "outputs": [],
   "source": [
    "summary = summarize(text)"
   ]
  },
  {
   "cell_type": "code",
   "execution_count": 10,
   "metadata": {},
   "outputs": [
    {
     "data": {
      "text/plain": [
       "565"
      ]
     },
     "execution_count": 10,
     "metadata": {},
     "output_type": "execute_result"
    }
   ],
   "source": [
    "len(summary)"
   ]
  },
  {
   "cell_type": "code",
   "execution_count": 11,
   "metadata": {},
   "outputs": [],
   "source": [
    "summary = article.replace('.txt', '\\n')+summary"
   ]
  },
  {
   "cell_type": "code",
   "execution_count": 12,
   "metadata": {},
   "outputs": [],
   "source": [
    "# Write the summary string to the file\n",
    "with open(f'podcast/{episode}/summary/' + article, 'w', encoding='utf-8') as f:\n",
    "    f.write(summary)"
   ]
  },
  {
   "cell_type": "markdown",
   "metadata": {},
   "source": [
    "## OpenAI TTS"
   ]
  },
  {
   "cell_type": "code",
   "execution_count": 13,
   "metadata": {},
   "outputs": [],
   "source": [
    "import openai, os\n",
    "from pathlib import Path\n",
    "openai.api_key = os.getenv(\"OPENAI_API_KEY\")"
   ]
  },
  {
   "cell_type": "code",
   "execution_count": 14,
   "metadata": {},
   "outputs": [],
   "source": [
    "os.mkdir(f'podcast/{episode}/audio')"
   ]
  },
  {
   "cell_type": "code",
   "execution_count": 15,
   "metadata": {},
   "outputs": [],
   "source": [
    "voices = ['alloy', 'echo', 'fable', 'onyx', 'nova', 'shimmer']"
   ]
  },
  {
   "cell_type": "code",
   "execution_count": 16,
   "metadata": {},
   "outputs": [
    {
     "name": "stdout",
     "output_type": "stream",
     "text": [
      "alloy\n",
      "echo\n",
      "fable\n",
      "onyx\n",
      "nova\n",
      "shimmer\n"
     ]
    }
   ],
   "source": [
    "voices = ['alloy', 'echo', 'fable', 'onyx', 'nova', 'shimmer']\n",
    "for i in range(len(articles)):\n",
    "    print(voices[i % 6])"
   ]
  },
  {
   "cell_type": "code",
   "execution_count": 17,
   "metadata": {},
   "outputs": [],
   "source": [
    "# Read the text from the file\n",
    "with open(f'podcast/{episode}/summary/' + article, 'r',encoding='utf-8') as f:\n",
    "    summary = f.read()"
   ]
  },
  {
   "cell_type": "code",
   "execution_count": 18,
   "metadata": {},
   "outputs": [],
   "source": [
    "from pathlib import Path\n",
    "import openai\n",
    "\n",
    "speech_file_path = Path(f'podcast/{episode}/audio/' + article.replace('.txt', '.mp3'))\n",
    "response = openai.audio.speech.create(\n",
    "  model=\"tts-1\",\n",
    "  voice=voices[0],\n",
    "  input=summary\n",
    ")\n",
    "response.stream_to_file(speech_file_path)"
   ]
  },
  {
   "cell_type": "markdown",
   "metadata": {},
   "source": [
    "## Elevenlabs"
   ]
  },
  {
   "cell_type": "code",
   "execution_count": 35,
   "metadata": {},
   "outputs": [],
   "source": [
    "from elevenlabs import generate, play, save, voices, set_api_key\n",
    "set_api_key(os.getenv('ELEVENLABS_KEY'))"
   ]
  },
  {
   "cell_type": "code",
   "execution_count": 37,
   "metadata": {},
   "outputs": [
    {
     "data": {
      "text/plain": [
       "[Voice(voice_id='21m00Tcm4TlvDq8ikWAM', name='Rachel', category='premade', description=None, labels={'accent': 'american', 'description': 'calm', 'age': 'young', 'gender': 'female', 'use case': 'narration'}, samples=None, settings=VoiceSettings(stability=0.75, similarity_boost=0.75), design=None),\n",
       " Voice(voice_id='2EiwWnXFnvU5JabPnv8n', name='Clyde', category='premade', description=None, labels={'accent': 'american', 'description': 'war veteran', 'age': 'middle aged', 'gender': 'male', 'use case': 'video games'}, samples=None, settings=VoiceSettings(stability=0.5, similarity_boost=0.75), design=None),\n",
       " Voice(voice_id='AZnzlk1XvdvUeBnXmlld', name='Domi', category='premade', description=None, labels={'accent': 'american', 'description': 'strong', 'age': 'young', 'gender': 'female', 'use case': 'narration'}, samples=None, settings=VoiceSettings(stability=0.5, similarity_boost=0.75), design=None),\n",
       " Voice(voice_id='CYw3kZ02Hs0563khs1Fj', name='Dave', category='premade', description=None, labels={'accent': 'british-essex', 'description': 'conversational', 'age': 'young', 'gender': 'male', 'use case': 'video games'}, samples=None, settings=VoiceSettings(stability=0.5, similarity_boost=0.75), design=None),\n",
       " Voice(voice_id='D38z5RcWu1voky8WS1ja', name='Fin', category='premade', description=None, labels={'accent': 'irish', 'description': 'sailor', 'age': 'old', 'gender': 'male', 'use case': 'video games'}, samples=None, settings=VoiceSettings(stability=0.5, similarity_boost=0.75), design=None),\n",
       " Voice(voice_id='EXAVITQu4vr4xnSDxMaL', name='Bella', category='premade', description=None, labels={'accent': 'american', 'description': 'soft', 'age': 'young', 'gender': 'female', 'use case': 'narration'}, samples=None, settings=VoiceSettings(stability=0.5, similarity_boost=0.75), design=None),\n",
       " Voice(voice_id='ErXwobaYiN019PkySvjV', name='Antoni', category='premade', description=None, labels={'accent': 'american', 'description': 'well-rounded', 'age': 'young', 'gender': 'male', 'use case': 'narration'}, samples=None, settings=VoiceSettings(stability=0.5, similarity_boost=0.75), design=None),\n",
       " Voice(voice_id='GBv7mTt0atIp3Br8iCZE', name='Thomas', category='premade', description=None, labels={'accent': 'american', 'description': 'calm', 'age': 'young', 'gender': 'male', 'use case': 'meditation'}, samples=None, settings=VoiceSettings(stability=0.5, similarity_boost=0.75), design=None),\n",
       " Voice(voice_id='IKne3meq5aSn9XLyUdCD', name='Charlie', category='premade', description=None, labels={'accent': 'australian', 'description': 'casual', 'age': 'middle aged', 'gender': 'male', 'use case': 'conversational'}, samples=None, settings=VoiceSettings(stability=0.5, similarity_boost=0.75), design=None),\n",
       " Voice(voice_id='LcfcDJNUP1GQjkzn1xUU', name='Emily', category='premade', description=None, labels={'accent': 'american', 'description': 'calm', 'age': 'young', 'gender': 'female', 'use case': 'meditation'}, samples=None, settings=VoiceSettings(stability=0.5, similarity_boost=0.75), design=None),\n",
       " Voice(voice_id='MF3mGyEYCl7XYWbV9V6O', name='Elli', category='premade', description=None, labels={'accent': 'american', 'description': 'emotional', 'age': 'young', 'gender': 'female', 'use case': 'narration'}, samples=None, settings=VoiceSettings(stability=0.5, similarity_boost=0.75), design=None),\n",
       " Voice(voice_id='N2lVS1w4EtoT3dr4eOWO', name='Callum', category='premade', description=None, labels={'accent': 'american', 'description': 'hoarse', 'age': 'middle aged', 'gender': 'male', 'use case': 'video games'}, samples=None, settings=VoiceSettings(stability=0.5, similarity_boost=0.75), design=None),\n",
       " Voice(voice_id='ODq5zmih8GrVes37Dizd', name='Patrick', category='premade', description=None, labels={'accent': 'american', 'description': 'shouty', 'age': 'middle aged', 'gender': 'male', 'use case': 'video games'}, samples=None, settings=VoiceSettings(stability=0.5, similarity_boost=0.75), design=None),\n",
       " Voice(voice_id='SOYHLrjzK2X1ezoPC6cr', name='Harry', category='premade', description=None, labels={'accent': 'american', 'description': 'anxious', 'age': 'young', 'gender': 'male', 'use case': 'video games'}, samples=None, settings=VoiceSettings(stability=0.5, similarity_boost=0.75), design=None),\n",
       " Voice(voice_id='TX3LPaxmHKxFdv7VOQHJ', name='Liam', category='premade', description=None, labels={'accent': 'american', 'age': 'young', 'gender': 'male', 'use case': 'narration', 'description ': 'neutral'}, samples=None, settings=VoiceSettings(stability=0.5, similarity_boost=0.75), design=None),\n",
       " Voice(voice_id='ThT5KcBeYPX3keUQqHPh', name='Dorothy', category='premade', description=None, labels={'accent': 'british', 'description': 'pleasant', 'age': 'young', 'gender': 'female', 'use case': \"children's stories\"}, samples=None, settings=VoiceSettings(stability=0.5, similarity_boost=0.75), design=None),\n",
       " Voice(voice_id='TxGEqnHWrfWFTfGW9XjX', name='Josh', category='premade', description=None, labels={'accent': 'american', 'description': 'deep', 'age': 'young', 'gender': 'male', 'use case': 'narration'}, samples=None, settings=VoiceSettings(stability=0.5, similarity_boost=0.75), design=None),\n",
       " Voice(voice_id='VR6AewLTigWG4xSOukaG', name='Arnold', category='premade', description=None, labels={'accent': 'american', 'description': 'crisp', 'age': 'middle aged', 'gender': 'male', 'use case': 'narration'}, samples=None, settings=VoiceSettings(stability=0.5, similarity_boost=0.75), design=None),\n",
       " Voice(voice_id='XB0fDUnXU5powFXDhCwa', name='Charlotte', category='premade', description=None, labels={'accent': 'english-swedish', 'description': 'seductive', 'age': 'middle aged', 'gender': 'female', 'use case': 'video games'}, samples=None, settings=VoiceSettings(stability=0.5, similarity_boost=0.75), design=None),\n",
       " Voice(voice_id='XrExE9yKIg1WjnnlVkGX', name='Matilda', category='premade', description=None, labels={'accent': 'american', 'description': 'warm', 'age': 'young', 'gender': 'female', 'use case': 'audiobook'}, samples=None, settings=VoiceSettings(stability=0.5, similarity_boost=0.75), design=None),\n",
       " Voice(voice_id='Yko7PKHZNXotIFUBG7I9', name='Matthew', category='premade', description=None, labels={'accent': 'british', 'age': 'middle aged', 'gender': 'male', 'use case': 'audiobook', 'description ': 'calm'}, samples=None, settings=VoiceSettings(stability=0.5, similarity_boost=0.75), design=None),\n",
       " Voice(voice_id='ZQe5CZNOzWyzPSCn5a3c', name='James', category='premade', description=None, labels={'accent': 'australian', 'description': 'calm ', 'age': 'old', 'gender': 'male', 'use case': 'news'}, samples=None, settings=VoiceSettings(stability=0.5, similarity_boost=0.75), design=None),\n",
       " Voice(voice_id='Zlb1dXrM653N07WRdFW3', name='Joseph', category='premade', description=None, labels={'accent': 'british', 'age': 'middle aged', 'gender': 'male', 'use case': 'news', 'description ': 'ground reporter '}, samples=None, settings=VoiceSettings(stability=0.5, similarity_boost=0.75), design=None),\n",
       " Voice(voice_id='bVMeCyTHy58xNoL34h3p', name='Jeremy', category='premade', description=None, labels={'accent': 'american-irish', 'description': 'excited', 'age': 'young', 'gender': 'male', 'use case': 'narration'}, samples=None, settings=VoiceSettings(stability=0.5, similarity_boost=0.75), design=None),\n",
       " Voice(voice_id='flq6f7yk4E4fJM5XTYuZ', name='Michael', category='premade', description=None, labels={'accent': 'american', 'age': 'old', 'gender': 'male', 'use case': 'audiobook', 'description ': 'orotund'}, samples=None, settings=VoiceSettings(stability=0.5, similarity_boost=0.75), design=None),\n",
       " Voice(voice_id='g5CIjZEefAph4nQFvHAz', name='Ethan', category='premade', description=None, labels={'accent': 'american', 'age': 'young', 'gender': 'male', 'use case': 'ASMR', 'description ': 'whisper'}, samples=None, settings=VoiceSettings(stability=0.5, similarity_boost=0.75), design=None),\n",
       " Voice(voice_id='jBpfuIE2acCO8z3wKNLl', name='Gigi', category='premade', description=None, labels={'accent': 'american', 'description': 'childlish', 'age': 'young', 'gender': 'female', 'use case': 'animation'}, samples=None, settings=VoiceSettings(stability=0.5, similarity_boost=0.75), design=None),\n",
       " Voice(voice_id='jsCqWAovK2LkecY7zXl4', name='Freya', category='premade', description=None, labels={'accent': 'american', 'age': 'young', 'gender': 'female', 'description ': 'overhyped', 'usecase': 'video games'}, samples=None, settings=VoiceSettings(stability=0.5, similarity_boost=0.75), design=None),\n",
       " Voice(voice_id='oWAxZDx7w5VEj9dCyTzz', name='Grace', category='premade', description=None, labels={'accent': 'american-southern', 'age': 'young', 'gender': 'female', 'use case': 'audiobook ', 'description ': 'gentle'}, samples=None, settings=VoiceSettings(stability=0.5, similarity_boost=0.75), design=None),\n",
       " Voice(voice_id='onwK4e9ZLuTAKqWW03F9', name='Daniel', category='premade', description=None, labels={'accent': 'british', 'description': 'deep', 'age': 'middle aged', 'gender': 'male', 'use case': 'news presenter'}, samples=None, settings=VoiceSettings(stability=0.5, similarity_boost=0.75), design=None),\n",
       " Voice(voice_id='pMsXgVXv3BLzUgSXRplE', name='Serena', category='premade', description=None, labels={'accent': 'american', 'description': 'pleasant', 'age': 'middle aged', 'gender': 'female', 'use case': 'interactive'}, samples=None, settings=VoiceSettings(stability=0.5, similarity_boost=0.75), design=None),\n",
       " Voice(voice_id='pNInz6obpgDQGcFmaJgB', name='Adam', category='premade', description=None, labels={'accent': 'american', 'description': 'deep', 'age': 'middle aged', 'gender': 'male', 'use case': 'narration'}, samples=None, settings=VoiceSettings(stability=0.5, similarity_boost=0.75), design=None),\n",
       " Voice(voice_id='piTKgcLEGmPE4e6mEKli', name='Nicole', category='premade', description=None, labels={'accent': 'american', 'description': 'whisper', 'age': 'young', 'gender': 'female', 'use case': 'audiobook'}, samples=None, settings=VoiceSettings(stability=0.5, similarity_boost=0.75), design=None),\n",
       " Voice(voice_id='t0jbNlBVZ17f02VDIeMI', name='Jessie', category='premade', description=None, labels={'accent': 'american', 'description': 'raspy ', 'age': 'old', 'gender': 'male', 'use case': 'video games'}, samples=None, settings=VoiceSettings(stability=0.5, similarity_boost=0.75), design=None),\n",
       " Voice(voice_id='wViXBPUzp2ZZixB1xQuM', name='Ryan', category='premade', description=None, labels={'age': 'middle aged', 'description': 'soldier', 'accent': 'american', 'gender': 'male', 'use case': 'audiobook'}, samples=None, settings=VoiceSettings(stability=0.5, similarity_boost=0.75), design=None),\n",
       " Voice(voice_id='yoZ06aMxZJJ28mfd3POQ', name='Sam', category='premade', description=None, labels={'accent': 'american', 'description': 'raspy', 'age': 'young', 'gender': 'male', 'use case': 'narration'}, samples=None, settings=VoiceSettings(stability=0.5, similarity_boost=0.75), design=None),\n",
       " Voice(voice_id='z9fAnlkpzviPz146aGWa', name='Glinda', category='premade', description=None, labels={'accent': 'american', 'description': 'witch', 'age': 'middle aged', 'gender': 'female', 'use case': 'video games'}, samples=None, settings=VoiceSettings(stability=0.5, similarity_boost=0.75), design=None),\n",
       " Voice(voice_id='zcAOhNBS3c14rBihAFp1', name='Giovanni', category='premade', description=None, labels={'accent': 'english-italian', 'description': 'foreigner', 'age': 'young', 'gender': 'male', 'use case': 'audiobook'}, samples=None, settings=VoiceSettings(stability=0.5, similarity_boost=0.75), design=None),\n",
       " Voice(voice_id='zrHiDhphv9ZnVXBqCLjz', name='Mimi', category='premade', description=None, labels={'accent': 'english-swedish', 'description': 'childish', 'age': 'young', 'gender': 'female', 'use case': 'animation'}, samples=None, settings=VoiceSettings(stability=0.5, similarity_boost=0.75), design=None),\n",
       " Voice(voice_id='KGd96kX1T66Iu2zoc7LI', name='Yann', category='cloned', description='', labels={'accent': 'French'}, samples=[VoiceSample(sample_id='EsW2GcWCRgbMMcYEKXCv', file_name='yann1.mp3', mime_type='audio/mpeg', size_bytes=991688, hash='946626d067f8c87ffa1e3c9f37deb545')], settings=VoiceSettings(stability=0.5, similarity_boost=0.75), design=None),\n",
       " Voice(voice_id='pX6i0Dc29C8b3143knvS', name='Hans', category='cloned', description='A classic American voice for an advertising', labels={'accent': 'American'}, samples=[VoiceSample(sample_id='5dYIj0wnHGWQ9PYYEAyd', file_name='Hans_part_2.mp3', mime_type='audio/mpeg', size_bytes=835437, hash='783f0dd4829d02430d3571fb4daf86af'), VoiceSample(sample_id='aqK7qJjBV4a8DXy1boC4', file_name='Hans_part_3.mp3', mime_type='audio/mpeg', size_bytes=835053, hash='7c162d6844cf5fd83e8009cf3ec4e656'), VoiceSample(sample_id='oELFbFul8anVlXr1C51w', file_name='Hans_part_1.mp3', mime_type='audio/mpeg', size_bytes=835437, hash='d8360c0c518b95dc922485be53efa77c')], settings=VoiceSettings(stability=0.5, similarity_boost=0.75), design=None)]"
      ]
     },
     "execution_count": 37,
     "metadata": {},
     "output_type": "execute_result"
    }
   ],
   "source": [
    "voices_list = list(voices())\n",
    "voices_list"
   ]
  },
  {
   "cell_type": "code",
   "execution_count": 38,
   "metadata": {},
   "outputs": [],
   "source": [
    "voice = 'Yann'\n",
    "\n",
    "# Generate audio for the content\n",
    "audio = generate(\n",
    "    text=summary,\n",
    "    voice=voice,\n",
    "    model=\"eleven_multilingual_v2\"\n",
    ")\n",
    "\n",
    "save(audio,f'podcast/{episode}/audio/' + article.replace('.txt', '.mp3'))"
   ]
  },
  {
   "cell_type": "markdown",
   "metadata": {},
   "source": [
    "## Polly"
   ]
  },
  {
   "cell_type": "code",
   "execution_count": 39,
   "metadata": {},
   "outputs": [],
   "source": [
    "import boto3\n",
    "import os\n",
    "# Import the necessary libraries\n",
    "\n",
    "# Set up the AWS credentials\n",
    "aws_access_key_id = os.environ.get('AWS_ACCESS_KEY_ID')\n",
    "aws_secret_access_key = os.environ.get('AWS_SECRET_ACCESS_KEY')\n",
    "aws_region_name = os.environ.get('AWS_REGION_NAME')"
   ]
  },
  {
   "cell_type": "code",
   "execution_count": 40,
   "metadata": {},
   "outputs": [],
   "source": [
    "# # Read the text from the file\n",
    "# with open(f'podcast/{episode}/summary/' + article, 'r') as f:\n",
    "#     summary = f.read()\n",
    "\n",
    "# Initialize the Polly client\n",
    "polly_client = boto3.Session(\n",
    "    aws_access_key_id=aws_access_key_id,\n",
    "    aws_secret_access_key=aws_secret_access_key,\n",
    "    region_name=aws_region_name).client('polly')\n",
    "\n",
    "# Synthesize the speech using the text\n",
    "response = polly_client.synthesize_speech(\n",
    "    Text=summary,\n",
    "    OutputFormat='mp3',\n",
    "    VoiceId='Lea') # French voices, Lea, Celine, Mathieu, Chantal\n",
    "\n",
    "# Save the synthesized speech to an MP3 file\n",
    "with open(f'podcast/{episode}/audio/' + article.replace('.txt', ' - Lea.mp3'), 'wb') as f:\n",
    "    f.write(response['AudioStream'].read())\n"
   ]
  },
  {
   "cell_type": "code",
   "execution_count": 32,
   "metadata": {},
   "outputs": [],
   "source": [
    "# For text longer than 3000 characters, use the following code\n",
    "\n",
    "# Initialize the Polly client\n",
    "polly_client = boto3.Session(\n",
    "    aws_access_key_id=aws_access_key_id,\n",
    "    aws_secret_access_key=aws_secret_access_key,\n",
    "    region_name=aws_region_name).client('polly')\n",
    "\n",
    "# Split the text into chunks of less than 3000 characters\n",
    "chunks = [text[i:i+3000] for i in range(0, len(text), 3000)]\n",
    "\n",
    "# Initialize an empty byte array to hold the audio stream\n",
    "audio_stream = bytearray()\n",
    "\n",
    "for chunk in chunks:\n",
    "    # Synthesize the speech using the chunk\n",
    "    response = polly_client.synthesize_speech(\n",
    "        Text=chunk,\n",
    "        OutputFormat='mp3',\n",
    "        VoiceId='Lea') # French voices, Lea, Celine, Mathieu, Chantal\n",
    "\n",
    "    # Append the audio stream from this chunk to the overall audio stream\n",
    "    audio_stream.extend(response['AudioStream'].read())\n",
    "\n",
    "# Save the synthesized speech to an MP3 file\n",
    "with open(f'podcast/{episode}/audio/' + article.replace('.txt', '.mp3'), 'wb') as f:\n",
    "    f.write(audio_stream)"
   ]
  },
  {
   "cell_type": "markdown",
   "metadata": {},
   "source": [
    "## Intro"
   ]
  },
  {
   "cell_type": "code",
   "execution_count": 23,
   "metadata": {},
   "outputs": [],
   "source": [
    "intro = 'ami_{:03d}.txt'.format(episode_number)\n",
    "\n",
    "# Define the template\n",
    "template = '''Conseil d'ami\n",
    "episode {}\n",
    "\n",
    "Lundi 13 novembre\n",
    "\n",
    "Au programme de cet épisode:\n",
    "\n",
    "'''\n",
    "\n",
    "# Read the articles from the directory\n",
    "articles = os.listdir(f'podcast/{episode}/text')\n",
    "\n",
    "# Initialize an empty string to hold the formatted articles\n",
    "formatted_articles = template.format(episode_number)\n",
    "\n",
    "# Loop through the articles and format them\n",
    "for article in articles:\n",
    "    formatted_articles += article.replace('txt','') + '\\n'\n",
    "\n",
    "# Write the output to a file\n",
    "with open(f'podcast/{episode}/' + intro, 'w', encoding='utf-8') as f:\n",
    "    f.write(formatted_articles)"
   ]
  },
  {
   "cell_type": "code",
   "execution_count": 76,
   "metadata": {},
   "outputs": [],
   "source": [
    "# %% Intro Elevenlabs\n",
    "from elevenlabs import generate, save, set_api_key\n",
    "set_api_key(os.getenv('ELEVENLABS_KEY'))\n",
    "intro = 'ami_{:03d}.txt'.format(episode_number)\n",
    "# Read the text from the file\n",
    "with open(f'podcast/{episode}/' + intro, 'r',encoding='utf-8') as f:\n",
    "    text = f.read()\n",
    "\n",
    "voice = 'Yann'\n",
    "\n",
    "# Generate audio for the content\n",
    "audio = generate(\n",
    "    text=text,\n",
    "    voice=voice,\n",
    "    model=\"eleven_multilingual_v2\"\n",
    ")\n",
    "\n",
    "save(audio,f'podcast/{episode}/intro.mp3')"
   ]
  },
  {
   "cell_type": "markdown",
   "metadata": {},
   "source": [
    "## Edit"
   ]
  },
  {
   "cell_type": "code",
   "execution_count": 42,
   "metadata": {},
   "outputs": [
    {
     "data": {
      "text/plain": [
       "[\"Chine - les yeux grands fermés de l'Occident.mp3\",\n",
       " 'Comprendre le langage des chiffres.mp3',\n",
       " 'Electricité - Berlin dégaine 12 milliards pour ses industriels.mp3',\n",
       " \"Face au manque d'ingénieurs, CentraleSupelec cherche à élargir son recrutement.mp3\",\n",
       " 'Israël accepte des « pauses » quotidiennes à Gaza.mp3']"
      ]
     },
     "execution_count": 42,
     "metadata": {},
     "output_type": "execute_result"
    }
   ],
   "source": [
    "audio_files = [f for f in os.listdir(directory+ '/audio/') if f.endswith('.mp3')]\n",
    "audio_files"
   ]
  },
  {
   "cell_type": "code",
   "execution_count": null,
   "metadata": {},
   "outputs": [],
   "source": [
    "from pydub import AudioSegment\n",
    "import os\n",
    "\n",
    "def edit(episode_number):\n",
    "    episode_number = int(episode_number)\n",
    "    episode = 'episode' + '{:03d}'.format(episode_number)\n",
    "    # Set the directory for the episode\n",
    "    directory = 'podcast/' + episode \n",
    "\n",
    "    # Get a list of all the audio files in the directory\n",
    "    audio_files = [f for f in os.listdir(directory+ '/audio/') if f.endswith('.mp3')]\n",
    "\n",
    "    # Initialize an empty AudioSegment object to hold the concatenated audio\n",
    "    concatenated_audio = AudioSegment.empty()\n",
    "\n",
    "    # Add the audio to the concatenated audio\n",
    "    concatenated_audio += AudioSegment.from_mp3('ami_generic.mp3')\n",
    "\n",
    "    # Add the intro audio to the concatenated audio\n",
    "    intro_audio = AudioSegment.from_mp3(directory + '/intro.mp3')\n",
    "    concatenated_audio += intro_audio\n",
    "\n",
    "    # Loop through the audio files and append them to the concatenated audio\n",
    "    for file in audio_files:\n",
    "        concatenated_audio += AudioSegment.from_mp3('ami_generic.mp3')\n",
    "        audio = AudioSegment.from_mp3(directory + '/audio/' + file)\n",
    "        concatenated_audio += audio\n",
    "\n",
    "    # Export the concatenated audio to a file\n",
    "    concatenated_audio.export(directory + f'/ami_{episode}.mp3', format='mp3')\n",
    "\n",
    "edit(episode_number)"
   ]
  }
 ],
 "metadata": {
  "kernelspec": {
   "display_name": "Python 3",
   "language": "python",
   "name": "python3"
  },
  "language_info": {
   "codemirror_mode": {
    "name": "ipython",
    "version": 3
   },
   "file_extension": ".py",
   "mimetype": "text/x-python",
   "name": "python",
   "nbconvert_exporter": "python",
   "pygments_lexer": "ipython3",
   "version": "3.10.10"
  }
 },
 "nbformat": 4,
 "nbformat_minor": 2
}
